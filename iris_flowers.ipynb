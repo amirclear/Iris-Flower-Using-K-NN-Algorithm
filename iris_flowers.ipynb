{
 "cells": [
  {
   "cell_type": "code",
   "execution_count": 1,
   "id": "2b198b84",
   "metadata": {},
   "outputs": [],
   "source": [
    "import numpy as np"
   ]
  },
  {
   "attachments": {},
   "cell_type": "markdown",
   "id": "99cd4e8f",
   "metadata": {},
   "source": [
    "\n",
    "\n",
    "<center>\n",
    "<div style=\"max-width: 900px\">\n",
    "<img src=\"img/iris_types.jpg\">\n",
    "</div>\n",
    "</center>\n"
   ]
  },
  {
   "cell_type": "code",
   "execution_count": 2,
   "id": "26d1efb5",
   "metadata": {},
   "outputs": [
    {
     "name": "stdout",
     "output_type": "stream",
     "text": [
      "(120, 4)\n"
     ]
    }
   ],
   "source": [
    "irises = np.load('irises.npy')\n",
    "print(irises.shape)"
   ]
  },
  {
   "cell_type": "code",
   "execution_count": 3,
   "id": "f6c55d30",
   "metadata": {},
   "outputs": [
    {
     "name": "stdout",
     "output_type": "stream",
     "text": [
      "(120,)\n"
     ]
    }
   ],
   "source": [
    "types = np.load('types.npy')\n",
    "print(types.shape)"
   ]
  },
  {
   "cell_type": "code",
   "execution_count": 4,
   "id": "d72e445e",
   "metadata": {},
   "outputs": [
    {
     "name": "stdout",
     "output_type": "stream",
     "text": [
      "(30, 4)\n"
     ]
    }
   ],
   "source": [
    "new_irises = np.load('new_irises.npy')\n",
    "print(new_irises.shape)"
   ]
  },
  {
   "cell_type": "code",
   "execution_count": 5,
   "id": "524e1890",
   "metadata": {},
   "outputs": [
    {
     "name": "stdout",
     "output_type": "stream",
     "text": [
      "Number of training samples (n): 120\n",
      "Number of test samples (m): 30\n"
     ]
    }
   ],
   "source": [
    "n, m = len(irises), len(new_irises)\n",
    "print(\"Number of training samples (n):\", n)\n",
    "print(\"Number of test samples (m):\", m)"
   ]
  },
  {
   "attachments": {},
   "cell_type": "markdown",
   "id": "1f317485",
   "metadata": {},
   "source": [
    "\n",
    "</font>\n",
    "</p>\n",
    "\n",
    "$$ d(p,q) = {\\sum_{i=0}^{f-1} (p_i - q_i)^2} $$\n",
    "\n",
    "<p dir=rtl style=\"direction: rtl;text-align: justify;line-height:200%;font-family:vazir;font-size:medium\">\n",
    "</p>"
   ]
  },
  {
   "cell_type": "code",
   "execution_count": null,
   "id": "bbace2d7",
   "metadata": {},
   "outputs": [],
   "source": [
    "def calc_two_loops(new_points, points):\n",
    "    \n",
    "    m = len(new_points)\n",
    "    n = len(points)\n",
    "    d = np.zeros((m, n))\n",
    "    \n",
    "    t\n",
    "    for i in range(m):\n",
    "       \n",
    "        for j in range(n):\n",
    "            \n",
    "            d[i, j] = np.sum((new_points[i] - points[j]) ** 2)\n",
    "            \n",
    "    return d"
   ]
  },
  {
   "cell_type": "code",
   "execution_count": 9,
   "id": "282f9b9c",
   "metadata": {},
   "outputs": [
    {
     "name": "stdout",
     "output_type": "stream",
     "text": [
      "(30, 120)\n"
     ]
    }
   ],
   "source": [
    "d2 = calc_two_loops(new_irises, irises)\n",
    "print(d2.shape)"
   ]
  },
  {
   "cell_type": "code",
   "execution_count": null,
   "id": "021a9f1c",
   "metadata": {},
   "outputs": [],
   "source": [
    "def calc_one_loop(new_points, points):\n",
    "    \n",
    "    \n",
    "    m = len(new_points)\n",
    "  \n",
    "    n = len(points)\n",
    "    \n",
    "    d = np.zeros((m, n))\n",
    "    \n",
    "    \n",
    "    for i in range(m):\n",
    "        \n",
    "        row = np.square(new_points[i] - points)\n",
    "        d[i] = np.sum(row, axis = 1)\n",
    "        \n",
    "    return d"
   ]
  },
  {
   "cell_type": "code",
   "execution_count": 11,
   "id": "4f7f3d42",
   "metadata": {},
   "outputs": [
    {
     "name": "stdout",
     "output_type": "stream",
     "text": [
      "(30, 120)\n"
     ]
    }
   ],
   "source": [
    "d1 = calc_one_loop(new_irises, irises)\n",
    "print(d1.shape)"
   ]
  },
  {
   "cell_type": "code",
   "execution_count": 14,
   "id": "f3e881e6",
   "metadata": {},
   "outputs": [],
   "source": [
    "def calc_no_loop(new_points, points):\n",
    "    return np.sum(np.square(new_points[:, np.newaxis] - points) , axis = 2)"
   ]
  },
  {
   "cell_type": "code",
   "execution_count": 15,
   "id": "5091f442",
   "metadata": {},
   "outputs": [
    {
     "name": "stdout",
     "output_type": "stream",
     "text": [
      "(30, 120)\n"
     ]
    }
   ],
   "source": [
    "d = calc_no_loop(new_irises, irises)\n",
    "print(d.shape)"
   ]
  },
  {
   "cell_type": "code",
   "execution_count": 27,
   "id": "6b3eda6e",
   "metadata": {},
   "outputs": [
    {
     "name": "stdout",
     "output_type": "stream",
     "text": [
      "OKAY\n"
     ]
    }
   ],
   "source": [
    "if np.allclose(d, d1, 1e-5) and np.allclose(d, d2, 1e-5) and np.allclose(d1, d2, 1e-5):\n",
    "    print('OKAY')\n",
    "else:\n",
    "    print('!!!!!!!')"
   ]
  },
  {
   "cell_type": "code",
   "execution_count": 22,
   "id": "6619de84",
   "metadata": {},
   "outputs": [
    {
     "name": "stdout",
     "output_type": "stream",
     "text": [
      "(30, 10)\n"
     ]
    }
   ],
   "source": [
    "k = 10\n",
    "part = np.argpartition(d, k, axis=1)[:, :k]\n",
    "row = np.arange(d.shape[0])[:, np.newaxis]\n",
    "k_nearest = part[row, np.argsort(d[row, part], axis = 1)]\n",
    "print(k_nearest.shape)"
   ]
  },
  {
   "cell_type": "code",
   "execution_count": 23,
   "id": "b60f862c",
   "metadata": {},
   "outputs": [
    {
     "data": {
      "text/plain": [
       "array([[0, 0, 0, 0, 0, 0, 0, 0, 0, 0],\n",
       "       [0, 0, 0, 0, 0, 0, 0, 0, 0, 0],\n",
       "       [0, 0, 0, 0, 0, 0, 0, 0, 0, 0],\n",
       "       [0, 0, 0, 0, 0, 0, 0, 0, 0, 0],\n",
       "       [0, 0, 0, 0, 0, 0, 0, 0, 0, 0],\n",
       "       [0, 0, 0, 0, 0, 0, 0, 0, 0, 0],\n",
       "       [0, 0, 0, 0, 0, 0, 0, 0, 0, 0],\n",
       "       [0, 0, 0, 0, 0, 0, 0, 0, 0, 0],\n",
       "       [0, 0, 0, 0, 0, 0, 0, 0, 0, 0],\n",
       "       [0, 0, 0, 0, 0, 0, 0, 0, 0, 0],\n",
       "       [1, 1, 1, 1, 1, 1, 1, 1, 2, 1],\n",
       "       [1, 1, 1, 1, 1, 1, 1, 1, 1, 1],\n",
       "       [1, 1, 1, 1, 1, 1, 1, 1, 1, 1],\n",
       "       [1, 1, 1, 1, 1, 1, 1, 1, 1, 1],\n",
       "       [1, 1, 1, 1, 1, 1, 1, 1, 1, 1],\n",
       "       [1, 1, 1, 1, 1, 1, 1, 1, 1, 1],\n",
       "       [1, 1, 1, 1, 1, 1, 1, 1, 1, 2],\n",
       "       [1, 1, 1, 1, 1, 1, 1, 1, 1, 1],\n",
       "       [1, 1, 1, 1, 1, 1, 1, 1, 1, 1],\n",
       "       [1, 1, 1, 1, 1, 1, 1, 1, 1, 1],\n",
       "       [2, 2, 2, 2, 2, 2, 2, 2, 2, 2],\n",
       "       [2, 2, 2, 2, 2, 2, 2, 2, 2, 2],\n",
       "       [2, 2, 2, 2, 2, 2, 2, 2, 2, 1],\n",
       "       [1, 1, 1, 2, 2, 2, 2, 2, 2, 1],\n",
       "       [2, 2, 2, 2, 2, 2, 2, 2, 2, 2],\n",
       "       [2, 2, 2, 2, 2, 2, 2, 2, 2, 2],\n",
       "       [2, 1, 2, 2, 2, 2, 1, 2, 2, 2],\n",
       "       [2, 2, 2, 2, 2, 2, 2, 2, 2, 2],\n",
       "       [2, 2, 2, 2, 2, 2, 2, 2, 2, 2],\n",
       "       [2, 2, 2, 2, 1, 1, 2, 2, 2, 2]])"
      ]
     },
     "execution_count": 23,
     "metadata": {},
     "output_type": "execute_result"
    }
   ],
   "source": [
    "k_nearest_types = types[k_nearest]\n",
    "k_nearest_types"
   ]
  },
  {
   "cell_type": "code",
   "execution_count": 24,
   "id": "785a1c4d",
   "metadata": {},
   "outputs": [
    {
     "data": {
      "text/plain": [
       "array([0, 0, 0, 0, 0, 0, 0, 0, 0, 0, 1, 1, 1, 1, 1, 1, 1, 1, 1, 1, 2, 2,\n",
       "       2, 2, 2, 2, 2, 2, 2, 2])"
      ]
     },
     "execution_count": 24,
     "metadata": {},
     "output_type": "execute_result"
    }
   ],
   "source": [
    "from scipy import stats\n",
    "predicted_types = stats.mode(k_nearest_types, axis=1).mode.reshape(m)\n",
    "predicted_types"
   ]
  },
  {
   "cell_type": "code",
   "execution_count": 25,
   "id": "6c855388",
   "metadata": {},
   "outputs": [
    {
     "name": "stdout",
     "output_type": "stream",
     "text": [
      "Accuracy: 1.0\n"
     ]
    }
   ],
   "source": [
    "new_types = np.load('new_types.npy')\n",
    "accuracy = np.mean(predicted_types == new_types)\n",
    "print('Accuracy:', accuracy)"
   ]
  }
 ],
 "metadata": {
  "kernelspec": {
   "display_name": "base",
   "language": "python",
   "name": "python3"
  },
  "language_info": {
   "codemirror_mode": {
    "name": "ipython",
    "version": 3
   },
   "file_extension": ".py",
   "mimetype": "text/x-python",
   "name": "python",
   "nbconvert_exporter": "python",
   "pygments_lexer": "ipython3",
   "version": "3.13.5"
  }
 },
 "nbformat": 4,
 "nbformat_minor": 5
}
